{
 "cells": [
  {
   "cell_type": "markdown",
   "metadata": {},
   "source": [
    "# Fun Puzzles:"
   ]
  },
  {
   "cell_type": "markdown",
   "metadata": {},
   "source": [
    "**1.)** If we list all the natural numbers below 20 that are multiples of 3 or 5 but not multiples both\n",
    "of 3 and 5, we get 3, 5, 6, 9, 10, 12, 18. The sum of these multiples is 63. Write a function,\n",
    "sum_multiples_3_5, that returns the sum of the multiples of 3 and 5 less than N."
   ]
  },
  {
   "cell_type": "code",
   "execution_count": 1,
   "metadata": {},
   "outputs": [],
   "source": [
    "import numpy as np"
   ]
  },
  {
   "cell_type": "code",
   "execution_count": 2,
   "metadata": {},
   "outputs": [],
   "source": [
    "def sum_multiples_3_5(N):\n",
    "    # check if input is an integer\n",
    "    if isinstance(N, (int))==True or isinstance(N,(np.int64))==True:\n",
    "        mults_3_5 = []\n",
    "        for i in np.arange(1,N):\n",
    "            # identity multiples of 3 or 5\n",
    "            if (i%3 ==0 or i%5 ==0) is not (i%3 ==0 | i%5 ==0):\n",
    "                mults_3_5.append(i)\n",
    "        return sum(mults_3_5)\n",
    "    else:\n",
    "        return print(\"ERROR: try inputting int or np.int64\")\n",
    "\n"
   ]
  },
  {
   "cell_type": "markdown",
   "metadata": {},
   "source": [
    "**tests:**"
   ]
  },
  {
   "cell_type": "code",
   "execution_count": 3,
   "metadata": {},
   "outputs": [
    {
     "data": {
      "text/plain": [
       "63"
      ]
     },
     "execution_count": 3,
     "metadata": {},
     "output_type": "execute_result"
    }
   ],
   "source": [
    "# if inputs are np.int64\n",
    "sum_multiples_3_5(20)"
   ]
  },
  {
   "cell_type": "code",
   "execution_count": 4,
   "metadata": {},
   "outputs": [
    {
     "name": "stdout",
     "output_type": "stream",
     "text": [
      "ERROR: try inputting int or np.int64\n"
     ]
    }
   ],
   "source": [
    "# if inputs are int\n",
    "sum_multiples_3_5(20.0)"
   ]
  },
  {
   "cell_type": "markdown",
   "metadata": {},
   "source": [
    "**2.)** Write a function, pattern_count with two arguments. The first arguments is a string, lets call it text, and the second argument is also a string, call it pattern. The function pattern_count returns the number of times the pattern occurs in the text."
   ]
  },
  {
   "cell_type": "code",
   "execution_count": 5,
   "metadata": {},
   "outputs": [],
   "source": [
    "def pattern_count(string, pattern):\n",
    "    count=0\n",
    "    for i in range(len(string)-len(pattern)+1):\n",
    "        if string[i:i+len(pattern)]==pattern:\n",
    "            #print(string[i:i+len(pattern)])\n",
    "            count+=1\n",
    "            \n",
    "        \n",
    "    \n",
    "    return count"
   ]
  },
  {
   "cell_type": "markdown",
   "metadata": {},
   "source": [
    "**tests:**"
   ]
  },
  {
   "cell_type": "code",
   "execution_count": 6,
   "metadata": {},
   "outputs": [
    {
     "data": {
      "text/plain": [
       "3"
      ]
     },
     "execution_count": 6,
     "metadata": {},
     "output_type": "execute_result"
    }
   ],
   "source": [
    "pattern_count(\"abababa\", \"aba\") "
   ]
  },
  {
   "cell_type": "code",
   "execution_count": 7,
   "metadata": {},
   "outputs": [
    {
     "data": {
      "text/plain": [
       "4"
      ]
     },
     "execution_count": 7,
     "metadata": {},
     "output_type": "execute_result"
    }
   ],
   "source": [
    "pattern_count(\"aaaaa\", \"aa\")"
   ]
  },
  {
   "cell_type": "code",
   "execution_count": 8,
   "metadata": {},
   "outputs": [
    {
     "data": {
      "text/plain": [
       "0"
      ]
     },
     "execution_count": 8,
     "metadata": {},
     "output_type": "execute_result"
    }
   ],
   "source": [
    "pattern_count(\"Abcde\", \"abc\")"
   ]
  },
  {
   "cell_type": "markdown",
   "metadata": {},
   "source": [
    "**3.)** A palindrome is a string that reads the same forwards and backwards. We will call a number octaldrome if its octal representation is a palindrome. So 945 is an octaldrome as in octal it is 1661. The first nine positive octaldromes are 1, 2, 3, 4, 5, 6, 7, 9 and 18. We want to find the n’th positive octaldrome. For example the 1’st positive octaldrome is 1, the fifth pos- itive octaldrome is 5 and the eighth positive octaldrome is 9. Write a function nth_octal- drome(n) that returns the n’th positive octaldrome. So we have\n",
    "\n",
    "nth_octaldrome(1) ==1 \n",
    "\n",
    "nth_octaldrome(9) == 18."
   ]
  },
  {
   "cell_type": "markdown",
   "metadata": {},
   "source": [
    "### answer"
   ]
  },
  {
   "cell_type": "code",
   "execution_count": 11,
   "metadata": {},
   "outputs": [],
   "source": [
    "def nth_octaldrom77(n):\n",
    "    o_num=[]\n",
    "    numb = []\n",
    "    n_beg = 1\n",
    "    while len(o_num) <n:\n",
    "    \n",
    "        if oct(n_beg)[2:]==oct(n_beg)[::-1][:-2]:\n",
    "            o_num.append(oct(n_beg)[2:])\n",
    "            numb.append(n_beg)\n",
    "            if len(o_num)==n:\n",
    "                break\n",
    "        n_beg+=1\n",
    "        \n",
    "    return n_beg"
   ]
  },
  {
   "cell_type": "code",
   "execution_count": 12,
   "metadata": {},
   "outputs": [
    {
     "data": {
      "text/plain": [
       "18"
      ]
     },
     "execution_count": 12,
     "metadata": {},
     "output_type": "execute_result"
    }
   ],
   "source": [
    "nth_octaldrom77(9)"
   ]
  },
  {
   "cell_type": "code",
   "execution_count": 13,
   "metadata": {},
   "outputs": [
    {
     "data": {
      "text/plain": [
       "1"
      ]
     },
     "execution_count": 13,
     "metadata": {},
     "output_type": "execute_result"
    }
   ],
   "source": [
    "nth_octaldrom77(1)"
   ]
  },
  {
   "cell_type": "code",
   "execution_count": 14,
   "metadata": {},
   "outputs": [
    {
     "data": {
      "text/plain": [
       "222390"
      ]
     },
     "execution_count": 14,
     "metadata": {},
     "output_type": "execute_result"
    }
   ],
   "source": [
    "nth_octaldrom77(945)"
   ]
  },
  {
   "cell_type": "code",
   "execution_count": 15,
   "metadata": {},
   "outputs": [
    {
     "data": {
      "text/plain": [
       "'0o1661'"
      ]
     },
     "execution_count": 15,
     "metadata": {},
     "output_type": "execute_result"
    }
   ],
   "source": [
    "oct(945)"
   ]
  },
  {
   "cell_type": "code",
   "execution_count": null,
   "metadata": {},
   "outputs": [],
   "source": []
  },
  {
   "cell_type": "markdown",
   "metadata": {},
   "source": [
    "**4.)** Write a function, most_frequent_word ,which has two arguments. The first argument is a  string, the second argument is an integer, call it n. most_frequent_word returns the sequence word(s) of length n that occurs most in the string. For example\n",
    "\n",
    "most_frequent_word(“TCGAAGCTAGACGCTAGTAGCTAGTGTGCA”, 4) \n",
    "returns (“CTAG” “GCTA”)\n"
   ]
  },
  {
   "cell_type": "code",
   "execution_count": 16,
   "metadata": {},
   "outputs": [],
   "source": [
    "def most_frequent_word(string, n):\n",
    "    from collections import Counter\n",
    "    chunks =[]\n",
    "    for ind in range(len(string)-n):\n",
    "        #print(string[ind:ind+4])\n",
    "        chunks.append(string[ind:ind+4])\n",
    "        \n",
    "    l = Counter(chunks)\n",
    "    \n",
    "    inv_l = {}\n",
    "    for i,j in l.items():\n",
    "        inv_l[j]= inv_l.get(j,[])\n",
    "        inv_l[j].append(i)\n",
    "    \n",
    "    return [inv_l[max(inv_l)][0], inv_l[max(inv_l)][1]]"
   ]
  },
  {
   "cell_type": "code",
   "execution_count": 17,
   "metadata": {},
   "outputs": [
    {
     "data": {
      "text/plain": [
       "['GCTA', 'CTAG']"
      ]
     },
     "execution_count": 17,
     "metadata": {},
     "output_type": "execute_result"
    }
   ],
   "source": [
    "most_frequent_word(\"TCGAAGCTAGACGCTAGTAGCTAGTGTGCA\",4)"
   ]
  },
  {
   "cell_type": "code",
   "execution_count": null,
   "metadata": {},
   "outputs": [],
   "source": []
  },
  {
   "cell_type": "code",
   "execution_count": null,
   "metadata": {},
   "outputs": [],
   "source": []
  },
  {
   "cell_type": "markdown",
   "metadata": {},
   "source": [
    "**5.)** In DNA strings,symbols 'A' and 'T' are complements of each other,as are 'C' and 'G'. The reverse complement of a DNA string s is the string formed by reversing s, then taking the complement of each symbol (e.g., the reverse complement of \"GTCA\" is \"TGAC\"). Write a function reverse_complement(s) that returns the reverse complement of s."
   ]
  },
  {
   "cell_type": "code",
   "execution_count": 18,
   "metadata": {},
   "outputs": [],
   "source": [
    "def reverse_complements(s):\n",
    "    # first reverse the string\n",
    "    s_revers= s[::-1]\n",
    "    \n",
    "    # now to do the complement\n",
    "    comp =[]\n",
    "    for i in range(len(s_revers)):\n",
    "        if s_revers[i]=='A':\n",
    "            s_t = s_revers[i].replace('A','T')\n",
    "            comp.append(s_t)\n",
    "            \n",
    "        if s_revers[i]=='T':\n",
    "            s_a = s_revers[i].replace('T','A')\n",
    "            comp.append(s_a)\n",
    "            \n",
    "        if s_revers[i]=='C':\n",
    "            s_g = s_revers[i].replace(\"C\",\"G\")\n",
    "            comp.append(s_g)\n",
    "            \n",
    "        if s_revers[i]=='G':\n",
    "            s_c = s_revers[i].replace(\"G\",\"C\")\n",
    "            comp.append(s_c)\n",
    "            \n",
    "\n",
    "    return  \"\".join(comp)"
   ]
  },
  {
   "cell_type": "code",
   "execution_count": 19,
   "metadata": {},
   "outputs": [
    {
     "data": {
      "text/plain": [
       "'TGAC'"
      ]
     },
     "execution_count": 19,
     "metadata": {},
     "output_type": "execute_result"
    }
   ],
   "source": [
    "reverse_complements('GTCA')"
   ]
  },
  {
   "cell_type": "code",
   "execution_count": null,
   "metadata": {},
   "outputs": [],
   "source": []
  },
  {
   "cell_type": "markdown",
   "metadata": {},
   "source": [
    "**6.)** The GC-content of a DNA string is given by the percentage of characters in the string that are 'C' or 'G'. For example, the GC-content of \"AGCTATAG\" is 37.5%. Write a function g_- content(s) with input a DNA-string and returns the GC-content of the string. So we have gc_content(\"AGCTATAG\") == 0.375"
   ]
  },
  {
   "cell_type": "code",
   "execution_count": 20,
   "metadata": {},
   "outputs": [],
   "source": [
    "def gc_content(s):\n",
    "    count=0\n",
    "    for i in s:\n",
    "        if i=='G':\n",
    "            count+=1\n",
    "        if i=='C':\n",
    "            count+=1\n",
    "\n",
    "    if count==0:\n",
    "        print(\"This DNA string has no gc content?!\")\n",
    "    return count/len(s)   \n",
    "    "
   ]
  },
  {
   "cell_type": "code",
   "execution_count": 21,
   "metadata": {},
   "outputs": [
    {
     "data": {
      "text/plain": [
       "0.375"
      ]
     },
     "execution_count": 21,
     "metadata": {},
     "output_type": "execute_result"
    }
   ],
   "source": [
    "gc_content(\"AGCTATAG\")"
   ]
  },
  {
   "cell_type": "code",
   "execution_count": 22,
   "metadata": {},
   "outputs": [],
   "source": [
    "# added an if statement \n",
    "# incase there is no 'C' and 'G' \n",
    "# this either means the DNA string \n",
    "# inputed is wrong "
   ]
  },
  {
   "cell_type": "code",
   "execution_count": 23,
   "metadata": {},
   "outputs": [
    {
     "name": "stdout",
     "output_type": "stream",
     "text": [
      "This DNA string has no gc content?!\n"
     ]
    },
    {
     "data": {
      "text/plain": [
       "0.0"
      ]
     },
     "execution_count": 23,
     "metadata": {},
     "output_type": "execute_result"
    }
   ],
   "source": [
    "gc_content(\"ATTATA\")"
   ]
  },
  {
   "cell_type": "markdown",
   "metadata": {},
   "source": [
    "**7.)** Write a function that receives a collection of strings and a map from strings to integers. Return a collection of integers that are values of the map corresponding to one of the strings in the collection. For example, given Array(\"Tom\", \"Fred\", \"Harry\") and Map(\"Tom\" -> 3, \"Dick\" -> 4, \"Harry\" -> 5), return Array(3, 5). (note the Array and Map here are pseudo-code to let you know the types. "
   ]
  },
  {
   "cell_type": "code",
   "execution_count": 24,
   "metadata": {},
   "outputs": [],
   "source": [
    "def map_strings(l,m):\n",
    "    d =m\n",
    "    num_arr = []\n",
    "    for i in l:\n",
    "        for j in d:\n",
    "            if j ==i:\n",
    "\n",
    "                num_arr.append(d[j])\n",
    "                \n",
    "    return num_arr"
   ]
  },
  {
   "cell_type": "code",
   "execution_count": 25,
   "metadata": {},
   "outputs": [
    {
     "data": {
      "text/plain": [
       "[3, 5]"
      ]
     },
     "execution_count": 25,
     "metadata": {},
     "output_type": "execute_result"
    }
   ],
   "source": [
    "map_strings([\"Tom\",\"Fred\",\"Harry\"], {\"Tom\":3,\"Dick\":4,\"Harry\":5})"
   ]
  },
  {
   "cell_type": "code",
   "execution_count": null,
   "metadata": {},
   "outputs": [],
   "source": []
  },
  {
   "cell_type": "code",
   "execution_count": null,
   "metadata": {},
   "outputs": [],
   "source": []
  },
  {
   "cell_type": "code",
   "execution_count": 26,
   "metadata": {},
   "outputs": [],
   "source": [
    "import unittest"
   ]
  },
  {
   "cell_type": "code",
   "execution_count": 31,
   "metadata": {},
   "outputs": [
    {
     "name": "stderr",
     "output_type": "stream",
     "text": [
      ".......\n",
      "----------------------------------------------------------------------\n",
      "Ran 7 tests in 0.145s\n",
      "\n",
      "OK\n"
     ]
    }
   ],
   "source": [
    "class TestStringsMethods(unittest.TestCase):\n",
    "    def test_map_string(self):\n",
    "        self.assertEqual(map_strings([\"Tom\",\"Fred\",\"Harry\"],{\"Tom\":3,\"Dick\":4,\"Harry\":5}),[3,5])\n",
    "     \n",
    "    def test_gc_content(self):\n",
    "        self.assertEqual(gc_content(\"AGCTATAG\"),0.375)\n",
    "    \n",
    "    def test_reverse_complements(self):\n",
    "        self.assertEqual(reverse_complements('GTCA'),'TGAC')\n",
    "        \n",
    "    def test_most_frequent_word(self):\n",
    "        self.assertEqual(most_frequent_word(\"TCGAAGCTAGACGCTAGTAGCTAGTGTGCA\",4),['GCTA', 'CTAG'])\n",
    "        \n",
    "    def test_nth_octaldrom77(self):\n",
    "        self.assertEqual(nth_octaldrom77(945),222390)\n",
    "        \n",
    "    def test_sum_multiples_3_5(self):\n",
    "        self.assertEqual(sum_multiples_3_5(20),63)\n",
    "        \n",
    "    def test_pattern_count(self):\n",
    "        self.assertEqual(pattern_count(\"abababa\", \"aba\"), 3)\n",
    "if __name__ == '__main__':\n",
    "    unittest.main(argv=['first-arg-is-ignored'],exit=False)\n",
    "    \n",
    "                         \n",
    "                         \n",
    "                         \n",
    "                         "
   ]
  },
  {
   "cell_type": "code",
   "execution_count": null,
   "metadata": {},
   "outputs": [],
   "source": []
  }
 ],
 "metadata": {
  "kernelspec": {
   "display_name": "Python 3",
   "language": "python",
   "name": "python3"
  },
  "language_info": {
   "codemirror_mode": {
    "name": "ipython",
    "version": 3
   },
   "file_extension": ".py",
   "mimetype": "text/x-python",
   "name": "python",
   "nbconvert_exporter": "python",
   "pygments_lexer": "ipython3",
   "version": "3.7.3"
  }
 },
 "nbformat": 4,
 "nbformat_minor": 2
}
